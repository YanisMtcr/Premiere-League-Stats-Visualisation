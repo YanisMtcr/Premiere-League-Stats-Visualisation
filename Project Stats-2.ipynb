{
 "cells": [
  {
   "cell_type": "markdown",
   "metadata": {},
   "source": [
    "# **Player Performances in the 2018/2019 Premier League Season**\n",
    "\n",
    "\n",
    "Source: https://footystats.org/england/premier-league#\n",
    "\n",
    "570 observation / 26 variable \n",
    "\n",
    "\n",
    "\n",
    "The population under study consists of  570  players who participated in the English Premier League during the 2018/2019 season.\n",
    "Using the different variables, we will extract simple statistics on player and team performances to evaluate their contributions, while also gaining a comprehensive overview of the league’s dynamics throughout the season.\n",
    "\n",
    "\n",
    "## **Variables** :\n",
    "\n",
    "### Categorical Variables :\n",
    "- **position**: The player’s position. (Raw data)\n",
    "- **Current Club**: The team the player represents. (Raw data)\n",
    "- **nationality**:  (Raw data)\n",
    "\n",
    "### Discrete Variables :\n",
    "\n",
    "- **goals_overall** Range(0-22), **assists_overall**:  goals, and assists.\n",
    "\n",
    "\n",
    "### Continuous Variables :\n",
    "- **appearances_overall** Range (0-38)\n",
    "- **minutes_played_overall** Range (0-3420), Total minutes played.\n",
    "- **age**: \n",
    "\t•\tVariable Name: age\n",
    "\t•\tVariable Description: The age of the player.\n",
    "\t•\tVariable Type: Discrete \n",
    "\t•   Range: 21-43\n",
    "\t•\tProcess: Raw data\n",
    "\n",
    "\n",
    "\n",
    "\n"
   ]
  },
  {
   "cell_type": "code",
   "execution_count": null,
   "metadata": {},
   "outputs": [],
   "source": [
    "import pandas as pd \n",
    "import numpy as np \n",
    "import matplotlib.pyplot as plt \n",
    "import scipy.stats as st"
   ]
  },
  {
   "cell_type": "markdown",
   "metadata": {},
   "source": [
    "### Data View"
   ]
  },
  {
   "cell_type": "code",
   "execution_count": null,
   "metadata": {},
   "outputs": [],
   "source": [
    "premier = pd.read_csv('Data-PL.csv', sep=';')\n",
    "premier.head()"
   ]
  },
  {
   "cell_type": "markdown",
   "metadata": {},
   "source": [
    "# **Function**"
   ]
  },
  {
   "cell_type": "markdown",
   "metadata": {},
   "source": [
    "##  Function Frequencies Table :\n"
   ]
  },
  {
   "cell_type": "code",
   "execution_count": null,
   "metadata": {},
   "outputs": [],
   "source": [
    "def categorical_frequencies(x):\n",
    "    l, ni = np.unique(x, return_counts=True)  \n",
    "    fi = ni / len(x)  \n",
    "    df_frequencies = pd.DataFrame(\n",
    "        data=np.transpose([ni, fi]),\n",
    "        index=l,\n",
    "        columns=[\"frequencies\", \"relative frequencies\"]\n",
    "    )\n",
    "    mean_frequency = np.mean(ni)\n",
    "    print(f\"mean frequency: {mean_frequency:.2f}\")\n",
    "    return df_frequencies\n",
    "\n",
    "def discret_frequencies(x):\n",
    "    l, ni = np.unique(x, return_counts=True)  \n",
    "    fi = ni / len(x)  \n",
    "    cf = np.cumsum(fi)  \n",
    "    df_frequencies = pd.DataFrame(\n",
    "        data=np.transpose([ni, fi, cf]),\n",
    "        index=l,\n",
    "        columns=[\"frequencies\", \"relative frequencies\", \"cumulative frequencies\"]\n",
    "    )\n",
    "    return df_frequencies\n",
    "\n",
    "def continuous_frequencies(x, bins):\n",
    "    ni = np.histogram(x, bins=bins)[0]\n",
    "    fi = ni / len(x)\n",
    "    Fi = np.cumsum(fi)\n",
    "    lo = bins[:-1]\n",
    "    hi = bins[1:]\n",
    "    frequency_table = pd.DataFrame({\n",
    "        'lo': lo,\n",
    "        'hi': hi,\n",
    "        'frequencies': ni,\n",
    "        'relative frequencies': fi,\n",
    "        'cumulative frequencies': Fi\n",
    "    })\n",
    "\n",
    "    return frequency_table"
   ]
  },
  {
   "cell_type": "markdown",
   "metadata": {},
   "source": [
    "## Function graphs"
   ]
  },
  {
   "cell_type": "markdown",
   "metadata": {},
   "source": [
    "### Categorical variable Function"
   ]
  },
  {
   "cell_type": "code",
   "execution_count": null,
   "metadata": {},
   "outputs": [],
   "source": [
    "def vertical_charts(x,sx,sy):\n",
    "    ni = np.array(x['frequencies'])\n",
    "    labels = x.index\n",
    "    plt.figure(figsize=(sx, sy))\n",
    "    plt.bar(labels, ni)\n",
    "    plt.ylabel('Frequencies')\n",
    "    plt.tight_layout()\n",
    "    plt.show()\n",
    "\n",
    "def horizontal_charts(x,sx,sy):\n",
    "    fi = np.array(x['relative frequencies'])\n",
    "    labels = x.index\n",
    "    plt.figure(figsize=(sx, sy))\n",
    "    plt.barh(labels, fi)\n",
    "    plt.xlabel('Relative Frequencies')\n",
    "    plt.tight_layout()\n",
    "    plt.show()\n",
    "\n",
    "def pie_charts(x,sx,sy):\n",
    "    ni = np.array(x['frequencies'])\n",
    "    labels = x.index\n",
    "    plt.figure(figsize=(sx, sy))\n",
    "    plt.pie(ni, labels=labels, autopct='%1.1f%%')\n",
    "    plt.tight_layout()\n",
    "    plt.show()"
   ]
  },
  {
   "cell_type": "markdown",
   "metadata": {},
   "source": [
    "### Discret Variable Function"
   ]
  },
  {
   "cell_type": "code",
   "execution_count": null,
   "metadata": {},
   "outputs": [],
   "source": [
    "def bar_graph(x,sx):\n",
    "    ni = np.array(x['frequencies'][:])\n",
    "    plt.bar(x.index, ni, width=sx)\n",
    "    plt.xticks(x.index, x.index)  \n",
    "    plt.show()\n",
    "\n",
    "def line_graph(x):\n",
    "    fi = np.array(x['relative frequencies'][:])\n",
    "    plt.plot(x.index, fi)  \n",
    "    plt.show()\n",
    "\n",
    "def stair(data, x_min, x_max):\n",
    "    Fi = np.array(data['cumulative frequencies'][:])\n",
    "    Fi_comp = np.insert(Fi, 0, 0)\n",
    "    edges = np.array(data.index).astype(float)\n",
    "    edges = np.insert(edges, 0, x_min)  \n",
    "    edges = np.append(edges, x_max)    \n",
    "    plt.stairs(Fi_comp, edges)\n",
    "    plt.xlim(x_min, x_max)\n",
    "    plt.show()"
   ]
  },
  {
   "cell_type": "markdown",
   "metadata": {},
   "source": [
    "### Continuous Variable Function"
   ]
  },
  {
   "cell_type": "code",
   "execution_count": null,
   "metadata": {},
   "outputs": [],
   "source": [
    "def historgram(x):\n",
    "    lo = np.array(x['lo'])\n",
    "    hi = np.array(x['hi'])\n",
    "    fi = np.array(x['relative frequencies'])\n",
    "    width = hi - lo \n",
    "    height = fi / width \n",
    "    bin_edges = np.append(lo, hi[-1])\n",
    "    plt.hist(bin_edges[:-1], bins=bin_edges, weights=height)\n",
    "    plt.show()\n",
    "\n",
    "def box_plot(x,v=\"\"):\n",
    "    plt.boxplot(x)\n",
    "    plt.xticks([1],[v])\n",
    "    plt.show()  \n",
    "\n",
    "def eCDF(x) :\n",
    "    a= np.min(x)\n",
    "    b= np.max(x)\n",
    "    n = len(x)\n",
    "    x.sort()\n",
    "    alpha=[0, 0.25, 0.5, 0.75, 1]\n",
    "    unique, freq = np.unique(x, return_counts=True)\n",
    "    cumul_freq = np.cumsum(freq)\n",
    "    cumul_freq = np.insert(cumul_freq, 0, 0)\n",
    "    F = cumul_freq / n\n",
    "\n",
    "    t = np.insert(unique, 0, a)\n",
    "    t = np.append(t, b)\n",
    "    q = np.quantile(x, alpha, method='higher')\n",
    "\n",
    "    plt.stairs(F, t)\n",
    "    plt.xlim(a,b)\n",
    "    \n",
    "    for i in range(1,4):\n",
    "        plt.plot([a,b],[alpha[i],alpha[i]])\n",
    "        plt.plot([q[i],q[i]],[0.,alpha[i]], 'k--', linewidth = 0.7)\n",
    "    plt.xticks(\n",
    "        [a, q[1], q[2], q[3], b],\n",
    "        [f\"{a:.2f}\", 'Q1', 'Q2', 'Q3', f\"{b:.2f}\"]\n",
    "    )\n",
    "    plt.show()\n",
    "\n",
    "def historgramm(x,y):\n",
    "    a = np.min(y)\n",
    "    b = np.max(y)\n",
    "    alpha = [0, 0.25, 0.5, 0.75, 1]\n",
    "    q = np.quantile(y, alpha, method='higher')  \n",
    "    lo = np.array(x['lo'])\n",
    "    hi = np.array(x['hi'])\n",
    "    fi = np.array(x['relative frequencies'])\n",
    "    length = hi - lo\n",
    "    height = fi / length  \n",
    "    bin_edges = np.append(lo, hi[-1])\n",
    "    m = max(height) \n",
    "    plt.hist(bin_edges[:-1], bins=bin_edges, weights=height )\n",
    "    for i in range(1, 4):  \n",
    "        plt.plot([q[i], q[i]], [0., m], 'k--', linewidth=0.8) \n",
    "    plt.xticks(\n",
    "        [a, q[1], q[2], q[3], b],\n",
    "        [f\"{a:.2f}\", 'Q1', 'Q2', 'Q3', f\"{b:.2f}\"]\n",
    "    )\n",
    "    plt.xlabel(\"\")\n",
    "    plt.ylabel(\"\")\n",
    "    plt.show()"
   ]
  },
  {
   "cell_type": "markdown",
   "metadata": {},
   "source": [
    "## Function Info"
   ]
  },
  {
   "cell_type": "code",
   "execution_count": null,
   "metadata": {},
   "outputs": [],
   "source": [
    "def get_info(x) :\n",
    "    m = np.mean(x)\n",
    "    ra = np.ptp(x)\n",
    "    s2 = np.var(x)\n",
    "    s = np.std(x)\n",
    "    skew = np.mean((x-m)**4)/s**4 - 3\n",
    "    kurt = np.mean((x-m)**3)/s**3\n",
    "    x.sort()\n",
    "    n = len(x)\n",
    "    unique, freq = np.unique(x, return_counts=True)\n",
    "    cumul_freq = np.cumsum(freq)\n",
    "    cumul_rel_freq = np.insert(cumul_freq, 0, 0.) / n\n",
    "    cumul_rel_freq = np.append(cumul_rel_freq, 1)\n",
    "    deviation = np.array([4,5, 3, 2, 1])*s\n",
    "    val = np.insert(unique, 0, 0.)\n",
    "    val = np.append(val, 80000)\n",
    "    F = lambda t: np.interp(t, val, cumul_rel_freq)\n",
    "\n",
    "    print(f\"Range  : {ra}   Variance : {s2} Mean : {m}  Skewness : {skew}  Kurtosis : {kurt}\" )\n",
    "    p = [F(m + y) - F(m - y) for y in deviation]\n",
    "    p_percent = [value * 100 for value in p]\n",
    "    for i, value in enumerate(p_percent):\n",
    "        print(f\"{deviation[i]:.2f} , {value:.2f} % \")"
   ]
  },
  {
   "cell_type": "markdown",
   "metadata": {},
   "source": [
    "## Function Tests"
   ]
  },
  {
   "cell_type": "markdown",
   "metadata": {},
   "source": [
    "###  Confidence Intervalle "
   ]
  },
  {
   "cell_type": "code",
   "execution_count": null,
   "metadata": {},
   "outputs": [],
   "source": [
    "def CI_mean(x, alpha=0.05, sample_size=100):\n",
    "    if sample_size:\n",
    "        indices = np.random.choice(len(x), size=sample_size, replace=False)\n",
    "        x = x[indices]\n",
    "    bx = np.mean(x)  \n",
    "    s = np.std(x, ddof=1)  \n",
    "    n = sample_size  \n",
    "    u = st.norm.ppf(1 - alpha / 2)  \n",
    "    t = u * s / np.sqrt(n) \n",
    "    print(f\"With a sample of {sample_size} players, the mean is in the interval: ({bx - t:.2f} ; {bx + t:.2f}) with a confidence level of {(1 - alpha) * 100:.2f}%.\")\n",
    "\n",
    "def CI_proportion(x,name,i,sample_size=100):\n",
    "    if sample_size:\n",
    "        indices = np.random.choice(len(x), size=sample_size, replace=False)\n",
    "        x = x[indices]\n",
    "    n= sample_size\n",
    "    levels, ni = np.unique(x, return_counts = True) \n",
    "    fi = ni/n\n",
    "    p0 = fi[i]\n",
    "    alpha = 0.05\n",
    "    u = st.norm.ppf(1-alpha/2)\n",
    "    t = u * np.sqrt(p0*(1-p0)/n)\n",
    "    print(f'the proportion of {name} is in ({p0-t:.2f},{p0+t:.2f}) with a confidencelevel of {(1-alpha)*100} % ')"
   ]
  },
  {
   "cell_type": "markdown",
   "metadata": {},
   "source": [
    "### Goodness of fit tests"
   ]
  },
  {
   "cell_type": "code",
   "execution_count": null,
   "metadata": {},
   "outputs": [],
   "source": [
    "def gamma_goodness_of_fit(x, bins, alpha=0.05):\n",
    "    mean_x = np.mean(x)\n",
    "    var_x = np.var(x, ddof=1)\n",
    "    beta = mean_x / var_x\n",
    "    alpha_gamma = beta * mean_x\n",
    "    dist = st.gamma(a=alpha_gamma, scale=1/beta)\n",
    "    cdf_vals = dist.cdf(bins)\n",
    "    n = len(x)\n",
    "    npi = np.diff(cdf_vals) * n\n",
    "    ni = np.histogram(x, bins=bins)[0]\n",
    "    di = (ni - npi)**2 / npi\n",
    "    chi_squared = np.sum(di)\n",
    "    J = len(bins) - 1\n",
    "    pvalue = st.chi2.sf(chi_squared, J - 1 - 2)\n",
    "    t = np.linspace(np.min(x), np.max(x), 100)\n",
    "    plt.hist(x, bins=bins, density=True)\n",
    "    plt.plot(t, dist.pdf(t), 'k-')\n",
    "    plt.show()\n",
    "    print(f\"Chi-squared value: {chi_squared:.2f}\")\n",
    "    print(f\"p-value: {pvalue:.4f}\")\n",
    "    if pvalue > alpha:\n",
    "        print(f\"The p-value is greater than {alpha}. This means that there is no significant evidence to reject H_0, and we consider that the fit is correct.\")\n",
    "    else:\n",
    "        print(f\"The p-value is less than or equal to {alpha}. This means that there is significant evidence to reject H_0, and we consider that the fit is not correct.\")\n",
    "\n",
    "    \n",
    "\n",
    "\n",
    "def goodness_of_fit_exponential_discrete(x, alpha=0.05):\n",
    "    mean_data = np.mean(x)\n",
    "    lambda_hat = 1 / mean_data \n",
    "    dist = st.expon(scale=1/lambda_hat)\n",
    "    values, ni = np.unique(x, return_counts=True)\n",
    "    n = len(x)\n",
    "    cdf_vals = dist.cdf(values)\n",
    "    npi = np.diff(cdf_vals) * n\n",
    "    npi = np.append(npi, (1 - cdf_vals[-2]) * n) \n",
    "    plt.bar(values, ni/n,)\n",
    "    plt.plot(values, dist.pdf(values), '-ko')\n",
    "    plt.show()\n",
    "    dj2 = (ni - npi)**2 / npi\n",
    "    d2 = np.sum(dj2)\n",
    "    J = len(dj2)\n",
    "    xc = st.chi2.ppf(1 - alpha, df=J - 1)\n",
    "    p_value = st.chi2.sf(d2, J - 1)\n",
    "    print(f\"Chi-squared value: {d2:.2f}\")\n",
    "    print(f\"Critical value: {xc:.2f}\")\n",
    "    print(f\"p-value: {p_value:.4f}\")\n",
    "    if p_value > alpha:\n",
    "        print(f\"The p-value is  greater than {alpha}. This means that there is no significant evidence to reject H_0, and we consider that the fit is correct.\")\n",
    "    else:\n",
    "        print(f\"The p-value is less than or equal to {alpha}. This means that there is significant evidence to reject H_0, and we consider that the fit is not correct.\")\n",
    "\n",
    "\n",
    "def goodness_of_fit_uniform(x, alpha=0.05):\n",
    "    a = np.min(x)\n",
    "    b = np.max(x)\n",
    "    n = len(x)\n",
    "    dist = st.uniform(loc=a, scale=(b-a))\n",
    "    bins = np.linspace(a, b, 10)\n",
    "    J = len(bins) - 1\n",
    "    nj = np.histogram(x, bins=bins)[0]\n",
    "    F = dist.cdf(bins[1:-1])\n",
    "    F = np.hstack((0., F, 1.))\n",
    "    npj = n * np.diff(F)\n",
    "    dj = (nj - npj) ** 2 / npj\n",
    "    d2 = np.sum(dj)\n",
    "    xc = st.chi2.ppf(1 - alpha, J - 1 - 2)\n",
    "    p_value = st.chi2.sf(d2, J - 1 - 2)\n",
    "    plt.hist(x, bins=bins, density=True)\n",
    "    plt.plot(np.linspace(a, b, 100), dist.pdf(np.linspace(a, b, 100)), 'k')\n",
    "    plt.show()\n",
    "    print(f\"Chi-squared value: {d2:.2f}\")\n",
    "    print(f\"Critical value: {xc:.2f}\")\n",
    "    print(f\"p-value: {p_value:.4f}\")\n",
    "    if p_value > alpha:\n",
    "        print(f\"The p-value is greater than {alpha}. This means that there is no significant evidence to reject H_0, and we consider that the fit is correct.\")\n",
    "    else:\n",
    "        print(f\"The p-value is less than or equal to {alpha}. This means that there is significant evidence to reject H_0, and we consider that the fit is not correct.\")\n"
   ]
  },
  {
   "cell_type": "markdown",
   "metadata": {},
   "source": [
    "### Comparaison Tests\n"
   ]
  },
  {
   "cell_type": "code",
   "execution_count": null,
   "metadata": {},
   "outputs": [],
   "source": [
    "def chi_squared_test(bins, x, y, titrex, titrey, alpha=0.05):\n",
    "    nic = np.histogram(x, bins=bins)[0]  \n",
    "    ninc = np.histogram(y, bins=bins)[0]  \n",
    "    nkj = np.vstack((nic, ninc))  \n",
    "    nk = np.sum(nkj, axis=1)  \n",
    "    nj = np.sum(nkj, axis=0)  \n",
    "    ddl = (np.shape(nkj)[0] - 1) * (np.shape(nkj)[1] - 1)\n",
    "    n = np.sum(nkj)  \n",
    "    nkj_th = np.outer(nk, nj) / n  \n",
    "    dkj = (nkj - nkj_th) ** 2 / nkj_th  \n",
    "    d2 = np.sum(dkj)  \n",
    "    p_value = st.chi2.sf(d2, ddl)\n",
    "    plt.figure(figsize=(10, 6))\n",
    "    plt.subplot(1, 2, 1)\n",
    "    plt.hist(x, bins=bins, density=True)\n",
    "    plt.title(titrex)\n",
    "    plt.yscale('log') # I used the log scale for the y-axis instead of manually adjusting the ylim because the histogram were not viseable\n",
    "    plt.subplot(1, 2, 2)\n",
    "    plt.hist(y, bins=bins, density=True)\n",
    "    plt.title(titrey)\n",
    "    plt.yscale('log') # I used the log scale for the y-axis instead of manually adjusting the ylim because the histogram were not viseable\n",
    "    plt.show()\n",
    "    print(f\"Chi-squared value: {d2:.2f}\")\n",
    "    print(f\"p-value: {p_value:.4f}\")\n",
    "    if p_value > alpha:\n",
    "        print(f\"The distributions are not significantly different (p-value > {alpha}).\")\n",
    "    else:\n",
    "        print(f\"The distributions are significantly different (p-value <= {alpha}).\")\n",
    "\n",
    "def compare_means(x, y, alpha=0.05):\n",
    "    bx, sx2, nx = np.mean(x), np.var(x, ddof=1), len(x)\n",
    "    by, sy2, ny = np.mean(y), np.var(y, ddof=1), len(y)\n",
    "    pooled_variance = ((nx - 1) * sx2 + (ny - 1) * sy2) / (nx + ny - 2)\n",
    "    t = (bx - by) / np.sqrt(pooled_variance * (1 / nx + 1 / ny))\n",
    "    p_value = 2 * st.t.sf(np.abs(t), nx + ny - 2)\n",
    "    \n",
    "    print(f\"Mean of first sample: {bx:.2f}\")\n",
    "    print(f\"Mean of second sample: {by:.2f}\")\n",
    "    print(f\"P-value: {p_value:.4f}\")\n",
    "    \n",
    "    if p_value > alpha:\n",
    "        print(f\"The means are not significantly different (p-value > {alpha}).\")\n",
    "    else:\n",
    "        print(f\"The means are significantly different (p-value <= {alpha}).\")"
   ]
  },
  {
   "cell_type": "markdown",
   "metadata": {},
   "source": [
    "#  **Variable**"
   ]
  },
  {
   "cell_type": "markdown",
   "metadata": {},
   "source": [
    "## Categorical Variables :"
   ]
  },
  {
   "cell_type": "markdown",
   "metadata": {},
   "source": [
    "### Current Club"
   ]
  },
  {
   "cell_type": "code",
   "execution_count": null,
   "metadata": {},
   "outputs": [],
   "source": [
    "club = np.array(premier[\"Current Club\"])  \n",
    "categorical_frequencies(club)"
   ]
  },
  {
   "cell_type": "markdown",
   "metadata": {},
   "source": [
    "**the distribution of players across clubs is fairly balanced**\n",
    "\n",
    "\n",
    "The club with the fewest players, Manchester City (24 players), finished first, while the club with the most players  Huddersfield Town with 32 players  finished last."
   ]
  },
  {
   "cell_type": "code",
   "execution_count": null,
   "metadata": {},
   "outputs": [],
   "source": [
    "x= categorical_frequencies(club)\n",
    "horizontal_charts(x,10,5)"
   ]
  },
  {
   "cell_type": "code",
   "execution_count": null,
   "metadata": {},
   "outputs": [],
   "source": [
    "vertical_charts(x,35,5)"
   ]
  },
  {
   "cell_type": "markdown",
   "metadata": {},
   "source": [
    "### Position\n"
   ]
  },
  {
   "cell_type": "code",
   "execution_count": null,
   "metadata": {},
   "outputs": [],
   "source": [
    "position = np.array(premier[\"position\"])  \n",
    "categorical_frequencies(position)"
   ]
  },
  {
   "cell_type": "code",
   "execution_count": null,
   "metadata": {},
   "outputs": [],
   "source": [
    "x= categorical_frequencies(position)\n",
    "pie_charts(x,5,5)"
   ]
  },
  {
   "cell_type": "code",
   "execution_count": null,
   "metadata": {},
   "outputs": [],
   "source": [
    "vertical_charts(x,8,4)"
   ]
  },
  {
   "cell_type": "markdown",
   "metadata": {},
   "source": [
    "For a proportion, the margin of error t is given by\n",
    "\n",
    "$$\n",
    "t = u_{1 - \\frac{\\alpha}{2}} \\cdot \\sqrt{\\frac{p_0 (1 - p_0)}{n}}\n",
    "$$\n",
    "\n",
    "The confidence interval is:\n",
    "\n",
    "$$\n",
    " \\left[ p_0 - t, \\, p_0 + t \\right]\n",
    "$$\n"
   ]
  },
  {
   "cell_type": "code",
   "execution_count": null,
   "metadata": {},
   "outputs": [],
   "source": [
    "CI_proportion(position,\"Defender\",0,29)\n",
    "CI_proportion(position,\"GoalKeeper\",2,29)"
   ]
  },
  {
   "cell_type": "markdown",
   "metadata": {},
   "source": [
    "Each time the test is run, 29 different players are randomly selected, and the resulting confidence intervals consistently match the true proportion, demonstrating the reliability of the sample estimates."
   ]
  },
  {
   "cell_type": "markdown",
   "metadata": {},
   "source": [
    "## Discrete Variables :"
   ]
  },
  {
   "cell_type": "markdown",
   "metadata": {},
   "source": [
    "### Goal Overall"
   ]
  },
  {
   "cell_type": "code",
   "execution_count": null,
   "metadata": {},
   "outputs": [],
   "source": [
    "goal = np.array(premier[\"goals_overall\"])  \n",
    "discret_frequencies(goal)"
   ]
  },
  {
   "cell_type": "code",
   "execution_count": null,
   "metadata": {},
   "outputs": [],
   "source": [
    "x= discret_frequencies(goal)\n",
    "bar_graph(x,0.50)\n",
    "line_graph(x)"
   ]
  },
  {
   "cell_type": "code",
   "execution_count": null,
   "metadata": {},
   "outputs": [],
   "source": [
    "get_info(goal)"
   ]
  },
  {
   "cell_type": "markdown",
   "metadata": {},
   "source": [
    "The goal distribution shows a range of 22, reflecting a wide disparity in player performance. The strong right skew (10.39) indicates that most players scored very few goals, while a small number scored significantly more. The high kurtosis (2.99) suggests the presence of outliers, with some players standing out by scoring far more goals than average."
   ]
  },
  {
   "cell_type": "markdown",
   "metadata": {},
   "source": [
    "For a mean, the margin of error t is given by\n",
    "\n",
    "$$\n",
    "t = u_{1 - \\frac{\\alpha}{2}} \\cdot \\frac{s}{\\sqrt{n}}\n",
    "$$\n",
    "\n",
    "The confidence interval is \n",
    "\n",
    "$$\n",
    " \\left[ \\bar{x} - t, \\, \\bar{x} + t \\right]\n",
    "$$"
   ]
  },
  {
   "cell_type": "code",
   "execution_count": null,
   "metadata": {},
   "outputs": [],
   "source": [
    "CI_mean(goal,0.05,29)"
   ]
  },
  {
   "cell_type": "markdown",
   "metadata": {},
   "source": [
    "We take the sample of 29 which the average number of player in a team this year in Premier League ( thanks to the Current Club frequencies )"
   ]
  },
  {
   "cell_type": "markdown",
   "metadata": {},
   "source": [
    "Each time the test is run, 29 different players are randomly selected, and the resulting confidence intervals for the mean consistently match the true mean, demonstrating the reliability of the sample estimates."
   ]
  },
  {
   "cell_type": "markdown",
   "metadata": {},
   "source": [
    "We are testing whether the distribution of goals scored by players fits an exponential distribution, using a goodness-of-fit test."
   ]
  },
  {
   "cell_type": "code",
   "execution_count": null,
   "metadata": {},
   "outputs": [],
   "source": [
    "goodness_of_fit_exponential_discrete(goal)"
   ]
  },
  {
   "cell_type": "markdown",
   "metadata": {},
   "source": [
    "## Continuous Variables :"
   ]
  },
  {
   "cell_type": "markdown",
   "metadata": {},
   "source": [
    "### Age"
   ]
  },
  {
   "cell_type": "code",
   "execution_count": null,
   "metadata": {},
   "outputs": [],
   "source": [
    "age = np.array(premier[\"age\"])  \n",
    "bins_age = np.array([21,23, 26,28,30,32,33,35,37,41])\n",
    "continuous_frequencies(age,bins_age)"
   ]
  },
  {
   "cell_type": "code",
   "execution_count": null,
   "metadata": {},
   "outputs": [],
   "source": [
    "x= continuous_frequencies(age,bins_age)\n",
    "box_plot(age,\"age\")\n",
    "eCDF(age)\n",
    "historgramm(x,age)"
   ]
  },
  {
   "cell_type": "code",
   "execution_count": null,
   "metadata": {},
   "outputs": [],
   "source": [
    "get_info(age)"
   ]
  },
  {
   "cell_type": "code",
   "execution_count": null,
   "metadata": {},
   "outputs": [],
   "source": [
    "CI_mean(age,0.05,29)"
   ]
  },
  {
   "cell_type": "markdown",
   "metadata": {},
   "source": [
    "Each time the test is run, 29 different players are randomly selected, and the resulting confidence intervals for the mean consistently match the true mean, demonstrating the reliability of the sample estimates."
   ]
  },
  {
   "cell_type": "markdown",
   "metadata": {},
   "source": [
    "We are testing whether the distribution of players’ ages fits a gamma distribution, using a goodness-of-fit test."
   ]
  },
  {
   "cell_type": "code",
   "execution_count": null,
   "metadata": {},
   "outputs": [],
   "source": [
    "gamma_goodness_of_fit(age,bins_age)"
   ]
  },
  {
   "cell_type": "code",
   "execution_count": null,
   "metadata": {},
   "outputs": [],
   "source": [
    "french = premier[premier[\"nationality\"] == \"France\"]\n",
    "england= premier[premier[\"nationality\"] == \"England\"]\n",
    "age_fff = np.array(french[\"age\"])  \n",
    "age_eff = np.array(england[\"age\"])  "
   ]
  },
  {
   "cell_type": "code",
   "execution_count": null,
   "metadata": {},
   "outputs": [],
   "source": [
    "chi_squared_test(bins_age,age_eff,age_fff,\"England\",\"France\")"
   ]
  },
  {
   "cell_type": "markdown",
   "metadata": {},
   "source": [
    "The chi-squared test result indicates  that the age distributions of French and English players are not significantly different."
   ]
  },
  {
   "cell_type": "code",
   "execution_count": null,
   "metadata": {},
   "outputs": [],
   "source": [
    "compare_means(age_eff,age_fff)"
   ]
  },
  {
   "cell_type": "code",
   "execution_count": null,
   "metadata": {},
   "outputs": [],
   "source": [
    "att = premier[premier[\"position\"] == \"Forward\"]\n",
    "dc = premier[premier[\"position\"] == \"Defender\"]\n",
    "age_att = np.array(att[\"age\"])  \n",
    "age_dc = np.array(dc[\"age\"])  "
   ]
  },
  {
   "cell_type": "code",
   "execution_count": null,
   "metadata": {},
   "outputs": [],
   "source": [
    "chi_squared_test(bins_age,age_att,age_dc,\"Forward\",\"Defender\")"
   ]
  },
  {
   "cell_type": "code",
   "execution_count": null,
   "metadata": {},
   "outputs": [],
   "source": [
    "compare_means(age_att,age_dc)"
   ]
  },
  {
   "cell_type": "markdown",
   "metadata": {},
   "source": [
    "### Appearances Overall"
   ]
  },
  {
   "cell_type": "markdown",
   "metadata": {},
   "source": [
    "We filtered the dataset to include only players with more than 3 appearances (appearances_overall > 3) to ensure the analysis focuses on players with sufficient game time, leading to more reliable and meaningful insights"
   ]
  },
  {
   "cell_type": "code",
   "execution_count": null,
   "metadata": {},
   "outputs": [],
   "source": [
    "played = premier[premier[\"appearances_overall\"] >3]\n",
    "app = np.array(played[\"appearances_overall\"])\n",
    "bins_app = np.array([3, 5,10,15,20,25,30,35,38])\n",
    "continuous_frequencies(app,bins_app)"
   ]
  },
  {
   "cell_type": "code",
   "execution_count": null,
   "metadata": {},
   "outputs": [],
   "source": [
    "x = continuous_frequencies(app,bins_app)\n",
    "box_plot(app,\"Appearances\")\n",
    "eCDF(app)\n",
    "historgramm(x,app)"
   ]
  },
  {
   "cell_type": "code",
   "execution_count": null,
   "metadata": {},
   "outputs": [],
   "source": [
    "get_info(app)"
   ]
  },
  {
   "cell_type": "markdown",
   "metadata": {},
   "source": [
    "By excluding players with fewer than 3 appearances,The mean increased from 18.38 to 23.22, suggesting that the filtered data focuses on more active players. The variance dropped significantly from 165.18 to 101.95, reflecting less variability in the adjusted dataset. The skewness reduced slightly from -1.40 to -1.11, showing that the filtered dataset is less left-skewed but still concentrated on higher appearances."
   ]
  },
  {
   "cell_type": "code",
   "execution_count": null,
   "metadata": {},
   "outputs": [],
   "source": [
    "CI_mean(app,0.1,29)"
   ]
  },
  {
   "cell_type": "markdown",
   "metadata": {},
   "source": [
    "Each time the test is run, 29 different players are randomly selected, and the resulting confidence intervals for the mean consistently match the true mean, demonstrating the reliability of the sample estimates."
   ]
  },
  {
   "cell_type": "markdown",
   "metadata": {},
   "source": [
    "We are testing whether the distribution of player appearances follows a uniform distribution, using a goodness-of-fit test."
   ]
  },
  {
   "cell_type": "code",
   "execution_count": null,
   "metadata": {},
   "outputs": [],
   "source": [
    "goodness_of_fit_uniform(app)"
   ]
  },
  {
   "cell_type": "code",
   "execution_count": null,
   "metadata": {},
   "outputs": [],
   "source": [
    "old= premier[(premier[\"age\"]>30 ) & (premier[\"appearances_overall\"] > 1)]\n",
    "jung= premier[(premier[\"age\"] <=30 ) & (premier[\"appearances_overall\"] > 1)]\n",
    "app_old = np.array(old[\"appearances_overall\"])  \n",
    "app_jung= np.array(jung[\"appearances_overall\"])  "
   ]
  },
  {
   "cell_type": "code",
   "execution_count": null,
   "metadata": {},
   "outputs": [],
   "source": [
    "chi_squared_test(bins_app,app_old,app_jung,\"More Than 30 \", \"Less Than 30\")"
   ]
  },
  {
   "cell_type": "code",
   "execution_count": null,
   "metadata": {},
   "outputs": [],
   "source": [
    "compare_means(app_jung,app_old)"
   ]
  },
  {
   "cell_type": "code",
   "execution_count": null,
   "metadata": {},
   "outputs": [],
   "source": [
    "old= premier[premier[\"age\"]>30 ]\n",
    "jung= premier[premier[\"age\"] <=30 ]\n",
    "app_old = np.array(old[\"appearances_overall\"])  \n",
    "app_jung= np.array(jung[\"appearances_overall\"]) \n",
    "compare_means(app_jung,app_old)"
   ]
  },
  {
   "cell_type": "markdown",
   "metadata": {},
   "source": [
    "When players who have never played are included, the mean number of appearances for players under 30 is 17.01, compared to 20.14 for players 30 and older. The p-value (0.0038) indicates a significant difference between the two groups. However, when players who have never played are excluded, the means increase to 21.61 for players under 30 and 22.06 for players 30 and older. The p-value (0.6591) shows no significant difference. \n",
    "\n",
    "This also suggests that a significant number of younger players have not played, which lowers the mean number of appearances for the under-30 group when those who have never played are included. This contrasts with older players, who are more likely to have played, resulting in a higher mean for their group even when non-playing players are included."
   ]
  },
  {
   "cell_type": "code",
   "execution_count": null,
   "metadata": {},
   "outputs": [],
   "source": [
    "keeper = premier[(premier[\"position\"] == \"Goalkeeper\") & (premier[\"appearances_overall\"] > 1)]\n",
    "forward= premier[(premier[\"position\"] == \"Forward\") & (premier[\"appearances_overall\"] > 1)]\n",
    "app_k = np.array(keeper[\"appearances_overall\"])  \n",
    "app_f= np.array(forward[\"appearances_overall\"])  "
   ]
  },
  {
   "cell_type": "code",
   "execution_count": null,
   "metadata": {},
   "outputs": [],
   "source": [
    "chi_squared_test(bins_app,app_k,app_f,\"Keeper \", \"Forward\")"
   ]
  },
  {
   "cell_type": "markdown",
   "metadata": {},
   "source": [
    "We conclude that the distributions of appearances between goalkeepers and forwards are not significantly different. This suggests that the number of appearances for both positions follow similar distribution patterns"
   ]
  },
  {
   "cell_type": "code",
   "execution_count": null,
   "metadata": {},
   "outputs": [],
   "source": [
    "compare_means(app_k,app_f)"
   ]
  },
  {
   "cell_type": "markdown",
   "metadata": {},
   "source": [
    "### Minuted Played"
   ]
  },
  {
   "cell_type": "markdown",
   "metadata": {},
   "source": [
    "We filtered the dataset to include only players with more than 100 minutes played (minutes_played_overall > 100) to ensure the analysis focuses on players with significant participation, providing more reliable and relevant data."
   ]
  },
  {
   "cell_type": "code",
   "execution_count": null,
   "metadata": {},
   "outputs": [],
   "source": [
    "played = premier[premier[\"minutes_played_overall\"] > 100]\n",
    "min = np.array(played['minutes_played_overall'][:])\n",
    "bins_min = np.array([100,500,700,900,1100,1600,1800, 2000 ,2200 ,3100 ,3420 ])\n",
    "continuous_frequencies(min,bins_min)"
   ]
  },
  {
   "cell_type": "code",
   "execution_count": null,
   "metadata": {},
   "outputs": [],
   "source": [
    "box_plot(min,\"Minuted\")\n",
    "eCDF(min)\n",
    "x=continuous_frequencies(min,bins_min)\n",
    "historgramm(x,min)"
   ]
  },
  {
   "cell_type": "code",
   "execution_count": null,
   "metadata": {},
   "outputs": [],
   "source": [
    "get_info(min)"
   ]
  },
  {
   "cell_type": "markdown",
   "metadata": {},
   "source": [
    "The minutes played overall show a wide range (3317 minutes) with a mean of 1667.52 minutes, indicating that players’ participation varies significantly. The negative skewness (-1.17) suggests that more players have high playing times, while the kurtosis (0.14) indicates a distribution close to normal with slightly fewer extreme values."
   ]
  },
  {
   "cell_type": "code",
   "execution_count": null,
   "metadata": {},
   "outputs": [],
   "source": [
    "CI_mean(min,0.1,29)"
   ]
  },
  {
   "cell_type": "markdown",
   "metadata": {},
   "source": [
    "Each time the test is run, 29 different players are randomly selected, and the resulting confidence intervals for the mean consistently match the true mean, demonstrating the reliability of the sample estimates."
   ]
  },
  {
   "cell_type": "markdown",
   "metadata": {},
   "source": [
    "The true mean, calculated at  1667.51, falls within this interval, suggesting that the sample provides a good estimate of the population mean."
   ]
  },
  {
   "cell_type": "markdown",
   "metadata": {},
   "source": [
    "We are testing whether the distribution of minutes played by players follows a uniform distribution, using a goodness-of-fit test."
   ]
  },
  {
   "cell_type": "code",
   "execution_count": null,
   "metadata": {},
   "outputs": [],
   "source": [
    "goodness_of_fit_uniform(min)"
   ]
  },
  {
   "cell_type": "code",
   "execution_count": null,
   "metadata": {},
   "outputs": [],
   "source": [
    "de = premier[(premier[\"nationality\"] == \"Germany\") & (premier[\"minutes_played_overall\"] > 100)]\n",
    "en= premier[(premier[\"nationality\"] == \"England\") & (premier[\"minutes_played_overall\"] > 100)]\n",
    "min_de = np.array(de[\"minutes_played_overall\"])  \n",
    "min_en= np.array(en[\"minutes_played_overall\"])  "
   ]
  },
  {
   "cell_type": "code",
   "execution_count": null,
   "metadata": {},
   "outputs": [],
   "source": [
    "compare_means(min_de,min_en)"
   ]
  },
  {
   "cell_type": "markdown",
   "metadata": {},
   "source": [
    "The analysis reveals that the mean minutes played by German players (2198.42) is significantly higher than that of English players (1592.80), with a p-value of 0.0344. This indicates that there is a significant difference in the total minutes played between the two nationalities among players who have played more than 100 minutes."
   ]
  },
  {
   "cell_type": "code",
   "execution_count": null,
   "metadata": {},
   "outputs": [],
   "source": [
    "keeper = premier[(premier[\"position\"] == \"Goalkeeper\") & (premier[\"minutes_played_overall\"] > 100)]\n",
    "forward= premier[(premier[\"position\"] == \"Forward\") & (premier[\"minutes_played_overall\"] > 100)]\n",
    "app_k = np.array(keeper[\"minutes_played_overall\"])  \n",
    "app_f= np.array(forward[\"minutes_played_overall\"]) "
   ]
  },
  {
   "cell_type": "code",
   "execution_count": null,
   "metadata": {},
   "outputs": [],
   "source": [
    "chi_squared_test(bins_min, app_k, app_f, \"Keeper\", \"Forward\")"
   ]
  },
  {
   "cell_type": "code",
   "execution_count": null,
   "metadata": {},
   "outputs": [],
   "source": [
    "compare_means(app_k,app_f)"
   ]
  },
  {
   "cell_type": "markdown",
   "metadata": {},
   "source": [
    "The analysis shows that when comparing appearances between goalkeepers and forwards, there is no significant difference in their mean number of appearances (p-value = 0.5430), and the distributions also do not differ significantly (Chi-squared p-value = 0.2920). This suggests that the number of appearances for both positions are similarly distributed.\n",
    "\n",
    "However, when comparing the minutes played overall, there is a significant difference in the mean minutes played by goalkeepers (2061.82 minutes) and forwards (1449.57 minutes) with a p-value of 0.0040, indicating a statistically significant difference. Additionally, the chi-squared test also shows a significant difference in the distributions of minutes played (p-value = 0.0012), implying that goalkeepers and forwards have different playing time distributions.\n",
    "\n",
    "Goalkeepers tend to play significantly more minutes than forwards, as seen from the statistical tests on minutes_played_overall.\n",
    "The lack of significant difference in appearances suggests that the number of games played is more evenly distributed between goalkeepers and forwards, while the time spent on the field differs considerably."
   ]
  },
  {
   "cell_type": "markdown",
   "metadata": {},
   "source": [
    "# Conclusion"
   ]
  },
  {
   "cell_type": "markdown",
   "metadata": {},
   "source": [
    "The analysis of Premier League player performances for the 2018/2019 season has revealed several trends and identified interesting characteristics regarding the distribution of players, their contributions, and the overall dynamics of the league.\n",
    "\n",
    "We used Statistical Analysis: : \n",
    "- Descriptive statistics were used to understand the distribution of  our  variables \n",
    "- Confidence intervals for means and proportions were calculated to assess the reliability of our estimates.\n",
    "- Goodness-of-fit tests were performed to check if the data followed known distributions .\n",
    "- Hypothesis tests, including chi-squared and t-tests, helped us compare the performance across different groups, such as position, age, and nationality.\n",
    "\n",
    "The analysis revealed important insights into player participation in the Premier League. While goalkeepers play more minutes than forwards, the number of appearances is generally balanced across these positions. Age and nationality also play a role in a player’s involvement, with younger players having fewer appearances and German players playing more minutes than the English .\n",
    "\n",
    "This study provides a deeper understanding of the dynamics of player performance and participation in the Premier League. \n"
   ]
  }
 ],
 "metadata": {
  "kernelspec": {
   "display_name": "Python 3",
   "language": "python",
   "name": "python3"
  },
  "language_info": {
   "codemirror_mode": {
    "name": "ipython",
    "version": 3
   },
   "file_extension": ".py",
   "mimetype": "text/x-python",
   "name": "python",
   "nbconvert_exporter": "python",
   "pygments_lexer": "ipython3",
   "version": "3.9.6"
  }
 },
 "nbformat": 4,
 "nbformat_minor": 2
}
